{
 "cells": [
  {
   "cell_type": "markdown",
   "metadata": {},
   "source": [
    "**Print**"
   ]
  },
  {
   "cell_type": "code",
   "execution_count": 1,
   "metadata": {},
   "outputs": [
    {
     "name": "stdout",
     "output_type": "stream",
     "text": [
      "Hello World!\n"
     ]
    }
   ],
   "source": [
    "print(\"Hello World!\")"
   ]
  },
  {
   "cell_type": "code",
   "execution_count": 2,
   "metadata": {},
   "outputs": [
    {
     "name": "stdout",
     "output_type": "stream",
     "text": [
      "print('Hey! How are you?')\n"
     ]
    }
   ],
   "source": [
    "print(\"print('Hey! How are you?')\")"
   ]
  },
  {
   "cell_type": "code",
   "execution_count": 6,
   "metadata": {},
   "outputs": [
    {
     "name": "stdout",
     "output_type": "stream",
     "text": [
      "print(\"Hey! How are you?\")\n"
     ]
    }
   ],
   "source": [
    "print(\"print(\\\"Hey! How are you?\\\")\") # using the escape character \\"
   ]
  },
  {
   "cell_type": "code",
   "execution_count": 7,
   "metadata": {},
   "outputs": [
    {
     "name": "stdout",
     "output_type": "stream",
     "text": [
      "print(\"Hey! How are you?\")\n"
     ]
    }
   ],
   "source": [
    "print(\"\"\"print(\"Hey! How are you?\")\"\"\") # using triple quotation"
   ]
  },
  {
   "cell_type": "code",
   "execution_count": 4,
   "metadata": {},
   "outputs": [
    {
     "name": "stdout",
     "output_type": "stream",
     "text": [
      "Hello World!\n",
      "Hello World!\n"
     ]
    }
   ],
   "source": [
    "print(\"Hello World!\\nHello World!\") # \\n means new line "
   ]
  },
  {
   "cell_type": "code",
   "execution_count": 10,
   "metadata": {},
   "outputs": [
    {
     "name": "stdout",
     "output_type": "stream",
     "text": [
      "Hello World!\n",
      "Hello World!\n"
     ]
    }
   ],
   "source": [
    "print(\"\"\"Hello World!\n",
    "Hello World!\"\"\")"
   ]
  },
  {
   "cell_type": "code",
   "execution_count": 11,
   "metadata": {},
   "outputs": [
    {
     "name": "stdout",
     "output_type": "stream",
     "text": [
      "Hello World!Hello World!\n"
     ]
    }
   ],
   "source": [
    "print(\"\"\"Hello World!\\\n",
    "Hello World!\"\"\")"
   ]
  },
  {
   "cell_type": "code",
   "execution_count": 5,
   "metadata": {},
   "outputs": [
    {
     "name": "stdout",
     "output_type": "stream",
     "text": [
      "One\tTwo\tThree\tFour\n"
     ]
    }
   ],
   "source": [
    "print(\"One\\tTwo\\tThree\\tFour\") #\\t means tab which inputs spaces "
   ]
  },
  {
   "cell_type": "code",
   "execution_count": 13,
   "metadata": {},
   "outputs": [
    {
     "name": "stdout",
     "output_type": "stream",
     "text": [
      "Hello Rohan! How are you?\n"
     ]
    }
   ],
   "source": [
    "print(\"Hello\"+\" \"+\"Rohan!\"+\" \"+\"How are you?\")"
   ]
  },
  {
   "cell_type": "markdown",
   "metadata": {},
   "source": [
    "**Input**"
   ]
  },
  {
   "cell_type": "code",
   "execution_count": 14,
   "metadata": {},
   "outputs": [
    {
     "name": "stdout",
     "output_type": "stream",
     "text": [
      "Enter your name : Rohan\n"
     ]
    },
    {
     "data": {
      "text/plain": [
       "'Rohan'"
      ]
     },
     "execution_count": 14,
     "metadata": {},
     "output_type": "execute_result"
    }
   ],
   "source": [
    "input(\"Enter your name : \") # input() gets input from user and the rest is similar to print()"
   ]
  },
  {
   "cell_type": "code",
   "execution_count": 16,
   "metadata": {},
   "outputs": [
    {
     "name": "stdout",
     "output_type": "stream",
     "text": [
      "What is your name?Rohan\n",
      "My name is Rohan\n"
     ]
    }
   ],
   "source": [
    "print(\"My name is {}\".format(input(\"What is your name?\"))) # taking the input and using it "
   ]
  },
  {
   "cell_type": "code",
   "execution_count": 19,
   "metadata": {},
   "outputs": [
    {
     "name": "stdout",
     "output_type": "stream",
     "text": [
      "Enter your name : Candyman\n",
      "Hey Candyman! You will play as number 8 in our team as the length of your name is 8\n"
     ]
    }
   ],
   "source": [
    "name = input(\"Enter your name : \")\n",
    "print(\"\"\"Hey {0}! You will play as number {1} in our team as the \\\n",
    "length of your name is {1}\"\"\".format(name, len(name)))"
   ]
  },
  {
   "cell_type": "code",
   "execution_count": 32,
   "metadata": {},
   "outputs": [
    {
     "name": "stdout",
     "output_type": "stream",
     "text": [
      "Enter a number between 32 and 72 : 50\n",
      "50\n"
     ]
    }
   ],
   "source": [
    "import random\n",
    "\n",
    "number = input(\"Enter a number between {} and {} : \".\n",
    "               format(random.randint(0,50), random.randint(50,100)))\n",
    "print(number)"
   ]
  },
  {
   "cell_type": "markdown",
   "metadata": {},
   "source": [
    "**Project 1** : Band Name Generator "
   ]
  },
  {
   "cell_type": "code",
   "execution_count": 44,
   "metadata": {},
   "outputs": [
    {
     "name": "stdout",
     "output_type": "stream",
     "text": [
      "What is the name of the city you grew up in?\n",
      "Tokyo\n",
      "What is the name of your pet? If you don't have a pet imagine the name you would have given to that if you had one.\n",
      "Tiger\n",
      "\n",
      "Ok!! I have a suggestion for your band name. Let's see if you like it.\n",
      "I suggest the name to be TokyoTiger\n",
      "\n",
      "Did you like my suggestion(YES/NO)?\n",
      "yes\n",
      "Congrats! You have your band name. Make this band a hit.\n",
      "Since you have liked the name suggested let us suggest another name for another band if you wish.\n",
      "Do you wish to continue with suggesting another band name(YES/NO)?\n",
      "yes\n",
      "What is the name of the city you grew up in?\n",
      "Kolkata\n",
      "What is the name of your pet? If you don't have a pet imagine the name you would have given to that if you had one.\n",
      "Snow\n",
      "\n",
      "Ok!! I have a suggestion for your band name. Let's see if you like it.\n",
      "I suggest the name to be KolkataSnow\n",
      "\n",
      "Did you like my suggestion(YES/NO)?\n",
      "no\n",
      "I am sorry dear. Let us try another time.\n",
      "Do you wish to continue with suggesting another band name(YES/NO)?\n",
      "no\n"
     ]
    }
   ],
   "source": [
    "while True:\n",
    "    city_name = input(\"What is the name of the city you grew up in?\\n\")\n",
    "    pet_name = input(\"\"\"What is the name of your pet? If you don't have a pet imagine the name you would have given to that if you had one.\\n\"\"\")\n",
    "    print(\"\")\n",
    "    print(\"Ok!! I have a suggestion for your band name. Let's see if you like it.\")\n",
    "    print(\"I suggest the name to be {}\".format(city_name+pet_name))\n",
    "    print(\"\")\n",
    "    response = input(\"Did you like my suggestion(YES/NO)?\\n\")\n",
    "    if response.casefold() == \"yes\":\n",
    "        print(\"Congrats! You have your band name. Make this band a hit.\")\n",
    "        print(\"\"\"Since you have liked the name suggested let us suggest another name for another band if you wish.\"\"\")\n",
    "        proceed = input(\"Do you wish to continue with suggesting another band name(YES/NO)?\\n\")\n",
    "        if proceed.casefold() == \"yes\":\n",
    "            continue\n",
    "        else:\n",
    "            break\n",
    "    else:\n",
    "        print(\"I am sorry dear. Let us try another time.\")\n",
    "        proceed = input(\"Do you wish to continue with suggesting another band name(YES/NO)?\\n\")\n",
    "        if proceed.casefold() == \"yes\":\n",
    "            continue\n",
    "        else:\n",
    "            break"
   ]
  }
 ],
 "metadata": {
  "kernelspec": {
   "display_name": "Python 3",
   "language": "python",
   "name": "python3"
  },
  "language_info": {
   "codemirror_mode": {
    "name": "ipython",
    "version": 3
   },
   "file_extension": ".py",
   "mimetype": "text/x-python",
   "name": "python",
   "nbconvert_exporter": "python",
   "pygments_lexer": "ipython3",
   "version": "3.8.5"
  }
 },
 "nbformat": 4,
 "nbformat_minor": 4
}
