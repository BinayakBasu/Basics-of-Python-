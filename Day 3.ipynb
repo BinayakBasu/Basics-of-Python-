{
 "cells": [
  {
   "cell_type": "markdown",
   "metadata": {},
   "source": [
    "#### Odd or Even"
   ]
  },
  {
   "cell_type": "code",
   "execution_count": 9,
   "metadata": {},
   "outputs": [
    {
     "name": "stdout",
     "output_type": "stream",
     "text": [
      "Enter a number :78\n",
      "The number is even\n",
      "Do you wish to check another number? yes or no: yes\n",
      "Enter a number :177\n",
      "The number is odd\n",
      "Do you wish to check another number? yes or no: no\n",
      "Thanks for using odd/even service.\n"
     ]
    }
   ],
   "source": [
    "while True: \n",
    "    number = int(input(\"Enter a number :\"))\n",
    "    if number%2 == 0:                      # check odd or even\n",
    "        print(\"The number is even\")\n",
    "    else:\n",
    "        print(\"The number is odd\")\n",
    "    response = input(\"Do you wish to check another number? yes or no: \")\n",
    "    if response.casefold()==\"yes\":\n",
    "        continue                         \n",
    "    else:\n",
    "        print(\"Thanks for using odd/even service.\")\n",
    "        break"
   ]
  },
  {
   "cell_type": "markdown",
   "metadata": {},
   "source": [
    "#### BMI Calculator "
   ]
  },
  {
   "cell_type": "markdown",
   "metadata": {},
   "source": [
    "BMI Categories:\n",
    "Underweight = <18.5\n",
    "Normal weight = 18.5–24.9\n",
    "Overweight = 25–29.9\n",
    "Obesity = BMI of 30 or greater"
   ]
  },
  {
   "cell_type": "code",
   "execution_count": 16,
   "metadata": {},
   "outputs": [
    {
     "name": "stdout",
     "output_type": "stream",
     "text": [
      "Enter your height in m: 1.8\n",
      "Enter your weight in kg: 75\n",
      "Congrats! You are normal weight\n",
      "Do you wish to check BMI of another person? yes or no: yes\n",
      "Enter your height in m: 1.8\n",
      "Enter your weight in kg: 55\n",
      "You are Underweight.\n",
      "Maintaining a healthy weight is important for your heart health.\n",
      "Do you wish to check BMI of another person? yes or no: yes\n",
      "Enter your height in m: 1.8\n",
      "Enter your weight in kg: 85\n",
      "You are Overweight.\n",
      "Moving more can lower your risk factors for heart disease.\n",
      "Do you wish to check BMI of another person? yes or no: yes\n",
      "Enter your height in m: 1.8\n",
      "Enter your weight in kg: 120\n",
      "You are suffering from Obesity.\n",
      "Do you wish to check BMI of another person? yes or no: no\n",
      "Thanks for using BMI calculator.\n"
     ]
    }
   ],
   "source": [
    "while True:\n",
    "    height=float(input(\"Enter your height in m: \"))\n",
    "    weight=float(input(\"Enter your weight in kg: \"))\n",
    "\n",
    "    BMI = round(weight/height**2,1)\n",
    "\n",
    "    if BMI<=18.5:\n",
    "        print(\"You are Underweight.\\nMaintaining a healthy weight is important for your heart health.\")\n",
    "    \n",
    "    elif BMI<=24.9:\n",
    "        print(\"Congrats! You are normal weight\")\n",
    "    \n",
    "    elif BMI<=29.9:\n",
    "        print(\"You are Overweight.\\nMoving more can lower your risk factors for heart disease.\")\n",
    "    \n",
    "    else:\n",
    "        print(\"You are suffering from Obesity.\")\n",
    "    \n",
    "    response = input(\"Do you wish to check BMI of another person? yes or no: \")\n",
    "    \n",
    "    if response.casefold()==\"yes\":\n",
    "        continue                         \n",
    "    \n",
    "    else:\n",
    "        print(\"Thanks for using BMI calculator.\")\n",
    "        break"
   ]
  },
  {
   "cell_type": "code",
   "execution_count": 17,
   "metadata": {},
   "outputs": [
    {
     "name": "stdout",
     "output_type": "stream",
     "text": [
      "welcome to game show\n",
      "please enter your height in cm 150\n",
      "you are eligible\n",
      "please enter your age25\n",
      "your bill is 12$\n",
      "Do you also want to see photo?(yes/no): yes\n",
      "We charge you $3 for photo.So your total bill is $15\n"
     ]
    }
   ],
   "source": [
    "# Multiple If : all conditions are checked (unlike if/elif/else idf one is true none are checked)\n",
    "\n",
    "print(\"welcome to game show\")\n",
    "\n",
    "height =int(input(\"please enter your height in cm \"))\n",
    "\n",
    "bill=0\n",
    "\n",
    "if height > 120:\n",
    "    print(\"you are eligible\")\n",
    "\n",
    "age=int(input(\"please enter your age\"))\n",
    "\n",
    "if age <12:\n",
    "\n",
    "   bill +=5\n",
    "\n",
    "   print(\"your bill is 5$\")\n",
    "\n",
    "elif age>12 and age<18:\n",
    "\n",
    "   bill += 7\n",
    "\n",
    "   print(\"your bill is 7$\")\n",
    "\n",
    "else:\n",
    "\n",
    "   bill +=12\n",
    "\n",
    "   print(\"your bill is 12$\")\n",
    "\n",
    "want_photo=input(\"Do you also want to see photo?(yes/no): \")\n",
    "\n",
    "if want_photo.casefold()== \"yes\":\n",
    "\n",
    "   bill +=3\n",
    "\n",
    "   print(f\"We charge you $3 for photo.So your total bill is ${bill}\")\n",
    "\n",
    "if want_photo.casefold()==\"no\":\n",
    "\n",
    "   print(f\"Thanks!So your bill is {bill} with out photo price\")"
   ]
  },
  {
   "cell_type": "code",
   "execution_count": 18,
   "metadata": {},
   "outputs": [
    {
     "name": "stdout",
     "output_type": "stream",
     "text": [
      "welcome to game show\n",
      "please enter your height in cm 160\n",
      "you are eligible\n",
      "please enter your age50\n",
      "All your rides are free! Enjoy\n",
      "Do you also want to see photo?(yes/no): yes\n",
      "We charge you $3 for photo.So your total bill is $3\n"
     ]
    }
   ],
   "source": [
    "print(\"welcome to game show\")\n",
    "\n",
    "height =int(input(\"please enter your height in cm \"))\n",
    "\n",
    "bill=0\n",
    "\n",
    "if height > 120:\n",
    "    print(\"you are eligible\")\n",
    "\n",
    "age=int(input(\"please enter your age\"))\n",
    "\n",
    "if age <12:\n",
    "\n",
    "   bill +=5\n",
    "\n",
    "   print(\"your bill is 5$\")\n",
    "\n",
    "elif age>12 and age<18:\n",
    "\n",
    "   bill += 7\n",
    "\n",
    "   print(\"your bill is 7$\")\n",
    "\n",
    "elif age>=45 and age<=55:  # using logical operators\n",
    "    \n",
    "    print(\"All your rides are free! Enjoy\")\n",
    "\n",
    "else:\n",
    "\n",
    "   bill +=12\n",
    "\n",
    "   print(\"your bill is 12$\")\n",
    "\n",
    "want_photo=input(\"Do you also want to see photo?(yes/no): \")\n",
    "\n",
    "if want_photo.casefold()== \"yes\":\n",
    "\n",
    "   bill +=3\n",
    "\n",
    "   print(f\"We charge you $3 for photo.So your total bill is ${bill}\")\n",
    "\n",
    "if want_photo.casefold()==\"no\":\n",
    "\n",
    "   print(f\"Thanks!So your bill is {bill} with out photo price\")"
   ]
  },
  {
   "cell_type": "markdown",
   "metadata": {},
   "source": [
    "#### Design a love calculator "
   ]
  },
  {
   "cell_type": "markdown",
   "metadata": {},
   "source": [
    "Take both people's names and check for the number of times the letters in the word TRUE occurs. Then check for the number of times the letters in the word LOVE occurs. Then combine these numbers to make a 2 digit number."
   ]
  },
  {
   "cell_type": "code",
   "execution_count": 14,
   "metadata": {},
   "outputs": [
    {
     "name": "stdout",
     "output_type": "stream",
     "text": [
      "Enter your name. \n",
      "Prateek Sinha\n",
      "Enter the name of your love. \n",
      "Simran Kaur\n",
      "Your score is 72.\n"
     ]
    }
   ],
   "source": [
    "name_1=input(\"Enter your name. \\n\")\n",
    "name_2=input(\"Enter the name of your love. \\n\")\n",
    "\n",
    "#concatenate the two strings\n",
    "combined_name = name_1+name_2\n",
    "lower_combined_name = combined_name.lower()\n",
    "\n",
    "t = lower_combined_name.count(\"t\") #count() is case sensitive\n",
    "r = lower_combined_name.count(\"r\")\n",
    "u = lower_combined_name.count(\"u\")\n",
    "e = lower_combined_name.count(\"e\")\n",
    "\n",
    "l = lower_combined_name.count(\"l\")\n",
    "o = lower_combined_name.count(\"o\")\n",
    "v = lower_combined_name.count(\"v\")\n",
    "e = lower_combined_name.count(\"e\")\n",
    "\n",
    "true = t+r+u+e\n",
    "love = l+o+v+e\n",
    "\n",
    "love_score = int(str(true)+str(love))\n",
    "\n",
    "if (love_score<10) or (love_score>90):\n",
    "    print(\"Your score is {}, you go together like coke and mentos.\".format(love_score))\n",
    "elif (love_score<=40) and (love_score<=50):\n",
    "          print(\"Your score is {}, you are alright together.\".format(love_score))\n",
    "else:\n",
    "          print(\"Your score is {}.\".format(love_score))"
   ]
  },
  {
   "cell_type": "markdown",
   "metadata": {},
   "source": [
    "#### Treasure Island"
   ]
  },
  {
   "cell_type": "markdown",
   "metadata": {},
   "source": [
    "https://viewer.diagrams.net/?highlight=0000ff&edit=_blank&layers=1&nav=1&title=Treasure%20Island%20Conditional.drawio#Uhttps%3A%2F%2Fdrive.google.com%2Fuc%3Fid%3D1oDe4ehjWZipYRsVfeAx2HyB7LCQ8_Fvi%26export%3Ddownload"
   ]
  },
  {
   "cell_type": "code",
   "execution_count": 19,
   "metadata": {},
   "outputs": [
    {
     "name": "stdout",
     "output_type": "stream",
     "text": [
      "\n",
      "_                                     _     _                 _ \n",
      "| |                                   (_)   | |               | |\n",
      "| |_ _ __ ___  __ _ ___ _   _ _ __ ___ _ ___| | __ _ _ __   __| |\n",
      "| __| '__/ _ \\/ _` / __| | | | '__/ _ \\ / __| |/ _` | '_ \\ / _` |\n",
      "| |_| | |  __/ (_| \\__ \\ |_| | | |  __/ \\__ \\ | (_| | | | | (_| |\n",
      " \\__|_|  \\___|\\__,_|___/\\__,_|_|  \\___|_|___/_|\\__,_|_| |_|\\__,_|\n",
      "                                                                 \n",
      "\n",
      "Welcome to Treasure Island. Your mission is to find the treasure.\n",
      "Choose a direction to move: LeFt\n",
      "Do you want to \"swim\" or \"wait\": ?WAIt\n",
      "Select a colour of the door to enter: Yellow\n",
      "Hurray!!! You have won the treasure!\n"
     ]
    }
   ],
   "source": [
    "print('''\n",
    "_                                     _     _                 _ \n",
    "| |                                   (_)   | |               | |\n",
    "| |_ _ __ ___  __ _ ___ _   _ _ __ ___ _ ___| | __ _ _ __   __| |\n",
    "| __| '__/ _ \\/ _` / __| | | | '__/ _ \\ / __| |/ _` | '_ \\ / _` |\n",
    "| |_| | |  __/ (_| \\__ \\ |_| | | |  __/ \\__ \\ | (_| | | | | (_| |\n",
    " \\__|_|  \\___|\\__,_|___/\\__,_|_|  \\___|_|___/_|\\__,_|_| |_|\\__,_|\n",
    "                                                                 \n",
    "''')\n",
    "print(\"Welcome to Treasure Island. Your mission is to find the treasure.\")\n",
    "direction = input(\"Choose a direction to move: \").lower()\n",
    "\n",
    "if direction == \"left\":\n",
    "        swim_wait = input(\"Do you want to \\\"swim\\\" or \\\"wait\\\": ?\").lower()\n",
    "        if swim_wait == \"wait\":\n",
    "            door_colour=input(\"Select a colour of the door to enter: \").lower()\n",
    "            if door_colour ==\"yellow\":\n",
    "                print(\"Hurray!!! You have won the treasure!\")\n",
    "            elif door_colour ==\"red\":\n",
    "                print(\"Fire has burnt you! GAME OVER!!!\")\n",
    "            elif door_colour == \"blue\":\n",
    "                print(\"Eaten by beasts! GAME OVER!!!\")\n",
    "            else:\n",
    "                print(\"GAME OVER!!!\")\n",
    "        else:\n",
    "            print(\"You are attacked by truot! GAME OVER!!!\")\n",
    "else:\n",
    "    print(\"You have fallen into a hole! GAME OVER!!!\")"
   ]
  }
 ],
 "metadata": {
  "kernelspec": {
   "display_name": "Python 3",
   "language": "python",
   "name": "python3"
  },
  "language_info": {
   "codemirror_mode": {
    "name": "ipython",
    "version": 3
   },
   "file_extension": ".py",
   "mimetype": "text/x-python",
   "name": "python",
   "nbconvert_exporter": "python",
   "pygments_lexer": "ipython3",
   "version": "3.8.5"
  }
 },
 "nbformat": 4,
 "nbformat_minor": 4
}
